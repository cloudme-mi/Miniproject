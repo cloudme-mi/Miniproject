{
 "cells": [
  {
   "cell_type": "code",
   "execution_count": 1,
   "id": "a126c44a-e938-414d-8b60-a4d9dafa6e24",
   "metadata": {},
   "outputs": [],
   "source": [
    "%load_ext autoreload\n",
    "%autoreload 2"
   ]
  },
  {
   "cell_type": "code",
   "execution_count": 2,
   "id": "7d55b6aa-32ea-4a5b-b11e-dd72d67f0ad5",
   "metadata": {},
   "outputs": [
    {
     "name": "stdout",
     "output_type": "stream",
     "text": [
      "/home/oem/8-project/crypogen/pocketgen\n"
     ]
    }
   ],
   "source": [
    "cd .."
   ]
  },
  {
   "cell_type": "code",
   "execution_count": 3,
   "id": "add16081-1742-4c9c-8a0b-be0f5c961ad9",
   "metadata": {},
   "outputs": [
    {
     "name": "stderr",
     "output_type": "stream",
     "text": [
      "/home/oem/softwares/Anaconda3/envs/crypogen/lib/python3.8/site-packages/tqdm/auto.py:21: TqdmWarning: IProgress not found. Please update jupyter and ipywidgets. See https://ipywidgets.readthedocs.io/en/stable/user_install.html\n",
      "  from .autonotebook import tqdm as notebook_tqdm\n"
     ]
    }
   ],
   "source": [
    "import pickle\n",
    "import torch\n",
    "from datasets import get_dataset\n",
    "import utils.misc as misc\n",
    "import utils.transforms as trans\n",
    "from torch_geometric.transforms import Compose\n",
    "from tqdm.auto import tqdm\n",
    "import numpy as np\n",
    "import matplotlib.pyplot as plt\n",
    "import seaborn as sns\n",
    "from scipy import stats"
   ]
  },
  {
   "cell_type": "code",
   "execution_count": 4,
   "id": "409453c5-b142-43c8-ba72-ff4273486839",
   "metadata": {},
   "outputs": [],
   "source": [
    "from models.molopt_score_model import ScorePosNet3D\n",
    "from scripts.likelihood_est_diffusion import data_likelihood_estimation"
   ]
  },
  {
   "cell_type": "code",
   "execution_count": 5,
   "id": "5b4b8010-3485-4392-86ee-3d7498891bdd",
   "metadata": {},
   "outputs": [],
   "source": [
    "sampling_config = 'configs/sampling.yml'\n",
    "sampling_config = misc.load_config(sampling_config)"
   ]
  },
  {
   "cell_type": "code",
   "execution_count": 6,
   "id": "6bb57999-ff4d-457f-9632-fcd25905f988",
   "metadata": {},
   "outputs": [],
   "source": [
    "# Load checkpoint\n",
    "device = 'cuda:0'\n",
    "ckpt = torch.load(sampling_config.model.checkpoint, map_location=device)\n",
    "\n",
    "# Transforms\n",
    "protein_featurizer = trans.FeaturizeProteinAtom()\n",
    "ligand_atom_mode = ckpt['config'].data.transform.ligand_atom_mode\n",
    "ligand_featurizer = trans.FeaturizeLigandAtom(ligand_atom_mode)\n",
    "transform = Compose([\n",
    "    protein_featurizer,\n",
    "    ligand_featurizer,\n",
    "    trans.FeaturizeLigandBond(),\n",
    "])"
   ]
  },
  {
   "cell_type": "code",
   "execution_count": 7,
   "id": "0b8348e4-4b92-478d-b8d3-86eaf965973d",
   "metadata": {},
   "outputs": [
    {
     "name": "stdout",
     "output_type": "stream",
     "text": [
      "Successfully load the model! ./logs_diffusion/training_2024_06_12__15_17_02/checkpoints/14100.pt\n"
     ]
    }
   ],
   "source": [
    "# Load model\n",
    "model = ScorePosNet3D(\n",
    "    ckpt['config'].model,\n",
    "    protein_atom_feature_dim=protein_featurizer.feature_dim,\n",
    "    ligand_atom_feature_dim=ligand_featurizer.feature_dim\n",
    ").to(device)\n",
    "model.load_state_dict(ckpt['model'], strict=True)\n",
    "print(f'Successfully load the model! {sampling_config.model.checkpoint}')"
   ]
  },
  {
   "cell_type": "code",
   "execution_count": 8,
   "id": "bc49da98-2ecc-4fe5-aec5-ddd1133d05df",
   "metadata": {},
   "outputs": [],
   "source": [
    "from utils.data import PDBProtein, parse_sdf_file\n",
    "from datasets.pl_data import ProteinLigandData, torchify_dict\n",
    "from torch.utils.data import Dataset\n",
    "from torch_geometric.loader import DataLoader\n",
    "from torch_geometric.data import Batch"
   ]
  },
  {
   "cell_type": "code",
   "execution_count": 9,
   "id": "4b29b9cc-8bb1-4ee2-a575-281b90239493",
   "metadata": {},
   "outputs": [],
   "source": [
    "def convert_data(pdb_path, ligand_path, transform, radius=10, pocket=False):\n",
    "    # ligand_dict = parse_sdf_file_mol(ligand_path, heavy_only=False)\n",
    "    ligand_dict = parse_sdf_file(ligand_path)\n",
    "    if not pocket:\n",
    "        protein = PDBProtein(pdb_path)\n",
    "        pdb_block_pocket = protein.residues_to_pdb_block(\n",
    "            protein.query_residues_ligand(ligand_dict, radius)\n",
    "        )\n",
    "        pocket_dict = PDBProtein(pdb_block_pocket).to_dict_atom()\n",
    "    else:\n",
    "        pocket_dict = PDBProtein(pdb_path).to_dict_atom()\n",
    "\n",
    "    data = ProteinLigandData.from_protein_ligand_dicts(\n",
    "        protein_dict=torchify_dict(pocket_dict),\n",
    "        ligand_dict=torchify_dict(ligand_dict),\n",
    "    )\n",
    "    data.protein_filename = pdb_path\n",
    "    data.ligand_filename = ligand_path\n",
    "    # data.y = torch.tensor(float(pka))\n",
    "    # data.kind = torch.tensor(2)  # kd\n",
    "    # data.id = idx\n",
    "    assert data.protein_pos.size(0) > 0\n",
    "    if transform is not None:\n",
    "        data = transform(data)\n",
    "    return data"
   ]
  },
  {
   "cell_type": "code",
   "execution_count": 10,
   "id": "7280dc63-7b98-4771-af61-13abbd0b7262",
   "metadata": {},
   "outputs": [],
   "source": [
    "class InferenceDataset(Dataset):\n",
    "    def __init__(self, data_list):\n",
    "        super().__init__()\n",
    "        self.data_list = data_list\n",
    "\n",
    "    def __len__(self):\n",
    "        return len(self.data_list)\n",
    "\n",
    "    def __getitem__(self, idx):\n",
    "        data = self.data_list[idx]\n",
    "        return data"
   ]
  },
  {
   "cell_type": "code",
   "execution_count": 11,
   "id": "52342244-21b3-473c-b9c0-575975148a06",
   "metadata": {},
   "outputs": [],
   "source": [
    "test_data = convert_data('examples/3ug2_protein.pdb', \n",
    "                         'examples/3ug2_ligand.sdf', transform)\n",
    "# test_data.kind = KMAP[args.kind]\n",
    "test_set = InferenceDataset([test_data])\n",
    "test_loader = DataLoader(test_set, batch_size=1, shuffle=False, follow_batch=['protein_element', 'ligand_element'])"
   ]
  },
  {
   "cell_type": "code",
   "execution_count": 12,
   "id": "82b452bc-5ac3-4ee1-8907-2dcd8925abb4",
   "metadata": {},
   "outputs": [],
   "source": [
    "batch = next(iter(test_loader)).to(device)"
   ]
  },
  {
   "cell_type": "code",
   "execution_count": 13,
   "id": "2947021d-a280-4699-9c95-c6ede8c98cb1",
   "metadata": {},
   "outputs": [],
   "source": [
    "preds = model.fetch_embedding(\n",
    "            protein_pos=batch.protein_pos,\n",
    "            protein_v=batch.protein_atom_feature.float(),\n",
    "            batch_protein=batch.protein_element_batch,\n",
    "\n",
    "            ligand_pos=batch.ligand_pos,\n",
    "            ligand_v=batch.ligand_atom_feature_full,\n",
    "            batch_ligand=batch.ligand_element_batch,\n",
    "        )"
   ]
  },
  {
   "cell_type": "code",
   "execution_count": 14,
   "id": "f245616a-403a-4006-87ac-de89a6ad0ef6",
   "metadata": {},
   "outputs": [
    {
     "ename": "FileNotFoundError",
     "evalue": "[Errno 2] No such file or directory: 'pretrained_models/pk_reg_para.pkl'",
     "output_type": "error",
     "traceback": [
      "\u001b[0;31m---------------------------------------------------------------------------\u001b[0m",
      "\u001b[0;31mFileNotFoundError\u001b[0m                         Traceback (most recent call last)",
      "Cell \u001b[0;32mIn[14], line 2\u001b[0m\n\u001b[1;32m      1\u001b[0m \u001b[38;5;66;03m# load linear model\u001b[39;00m\n\u001b[0;32m----> 2\u001b[0m \u001b[38;5;28;01mwith\u001b[39;00m \u001b[38;5;28;43mopen\u001b[39;49m\u001b[43m(\u001b[49m\u001b[38;5;124;43m'\u001b[39;49m\u001b[38;5;124;43mpretrained_models/pk_reg_para.pkl\u001b[39;49m\u001b[38;5;124;43m'\u001b[39;49m\u001b[43m,\u001b[49m\u001b[43m \u001b[49m\u001b[38;5;124;43m'\u001b[39;49m\u001b[38;5;124;43mrb\u001b[39;49m\u001b[38;5;124;43m'\u001b[39;49m\u001b[43m)\u001b[49m \u001b[38;5;28;01mas\u001b[39;00m f:\n\u001b[1;32m      3\u001b[0m     lmodel \u001b[38;5;241m=\u001b[39m pickle\u001b[38;5;241m.\u001b[39mload(f)\n",
      "File \u001b[0;32m~/softwares/Anaconda3/envs/crypogen/lib/python3.8/site-packages/IPython/core/interactiveshell.py:284\u001b[0m, in \u001b[0;36m_modified_open\u001b[0;34m(file, *args, **kwargs)\u001b[0m\n\u001b[1;32m    277\u001b[0m \u001b[38;5;28;01mif\u001b[39;00m file \u001b[38;5;129;01min\u001b[39;00m {\u001b[38;5;241m0\u001b[39m, \u001b[38;5;241m1\u001b[39m, \u001b[38;5;241m2\u001b[39m}:\n\u001b[1;32m    278\u001b[0m     \u001b[38;5;28;01mraise\u001b[39;00m \u001b[38;5;167;01mValueError\u001b[39;00m(\n\u001b[1;32m    279\u001b[0m         \u001b[38;5;124mf\u001b[39m\u001b[38;5;124m\"\u001b[39m\u001b[38;5;124mIPython won\u001b[39m\u001b[38;5;124m'\u001b[39m\u001b[38;5;124mt let you open fd=\u001b[39m\u001b[38;5;132;01m{\u001b[39;00mfile\u001b[38;5;132;01m}\u001b[39;00m\u001b[38;5;124m by default \u001b[39m\u001b[38;5;124m\"\u001b[39m\n\u001b[1;32m    280\u001b[0m         \u001b[38;5;124m\"\u001b[39m\u001b[38;5;124mas it is likely to crash IPython. If you know what you are doing, \u001b[39m\u001b[38;5;124m\"\u001b[39m\n\u001b[1;32m    281\u001b[0m         \u001b[38;5;124m\"\u001b[39m\u001b[38;5;124myou can use builtins\u001b[39m\u001b[38;5;124m'\u001b[39m\u001b[38;5;124m open.\u001b[39m\u001b[38;5;124m\"\u001b[39m\n\u001b[1;32m    282\u001b[0m     )\n\u001b[0;32m--> 284\u001b[0m \u001b[38;5;28;01mreturn\u001b[39;00m \u001b[43mio_open\u001b[49m\u001b[43m(\u001b[49m\u001b[43mfile\u001b[49m\u001b[43m,\u001b[49m\u001b[43m \u001b[49m\u001b[38;5;241;43m*\u001b[39;49m\u001b[43margs\u001b[49m\u001b[43m,\u001b[49m\u001b[43m \u001b[49m\u001b[38;5;241;43m*\u001b[39;49m\u001b[38;5;241;43m*\u001b[39;49m\u001b[43mkwargs\u001b[49m\u001b[43m)\u001b[49m\n",
      "\u001b[0;31mFileNotFoundError\u001b[0m: [Errno 2] No such file or directory: 'pretrained_models/pk_reg_para.pkl'"
     ]
    }
   ],
   "source": [
    "# load linear model\n",
    "with open('pretrained_models/pk_reg_para.pkl', 'rb') as f:\n",
    "    lmodel = pickle.load(f) "
   ]
  },
  {
   "cell_type": "code",
   "execution_count": 18,
   "id": "661ce15e-9485-4429-85ff-2ed43de5aa67",
   "metadata": {},
   "outputs": [],
   "source": [
    "final_ligand_h = np.array([preds['final_ligand_h'].cpu().numpy().mean(0)])"
   ]
  },
  {
   "cell_type": "code",
   "execution_count": 19,
   "id": "80444932-f508-4b68-8d00-80becf7ffb28",
   "metadata": {},
   "outputs": [],
   "source": [
    "pka = lmodel.predict(final_ligand_h)"
   ]
  },
  {
   "cell_type": "code",
   "execution_count": 20,
   "id": "b05a8190-d260-4d3d-a614-96b2a7bcc88e",
   "metadata": {},
   "outputs": [],
   "source": [
    "affinity = np.power(10, -pka)"
   ]
  },
  {
   "cell_type": "code",
   "execution_count": 21,
   "id": "340eebb5-0307-4cd1-9461-b932d59ec90c",
   "metadata": {},
   "outputs": [
    {
     "data": {
      "text/plain": [
       "array([1.0119374e-09], dtype=float32)"
      ]
     },
     "execution_count": 21,
     "metadata": {},
     "output_type": "execute_result"
    }
   ],
   "source": [
    "affinity"
   ]
  },
  {
   "cell_type": "code",
   "execution_count": null,
   "id": "9597a9b5-84b0-4892-b12a-cf80a5fb1681",
   "metadata": {},
   "outputs": [],
   "source": []
  }
 ],
 "metadata": {
  "kernelspec": {
   "display_name": "crypogen",
   "language": "python",
   "name": "python3"
  },
  "language_info": {
   "codemirror_mode": {
    "name": "ipython",
    "version": 3
   },
   "file_extension": ".py",
   "mimetype": "text/x-python",
   "name": "python",
   "nbconvert_exporter": "python",
   "pygments_lexer": "ipython3",
   "version": "3.8.19"
  }
 },
 "nbformat": 4,
 "nbformat_minor": 5
}
